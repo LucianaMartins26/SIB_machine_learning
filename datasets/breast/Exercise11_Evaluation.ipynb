{
 "cells": [
  {
   "cell_type": "markdown",
   "source": [
    "__Test Randomized_search with breast dataset__"
   ],
   "metadata": {
    "collapsed": false
   },
   "id": "6f96393d27a32515"
  },
  {
   "cell_type": "code",
   "execution_count": 1,
   "outputs": [
    {
     "name": "stdout",
     "output_type": "stream",
     "text": [
      "{'hyperparameters': [{'l2_penalty': 2.0, 'alpha': 0.0008636363636363636, 'max_iter': 1411}, {'l2_penalty': 7.0, 'alpha': 0.0005181818181818182, 'max_iter': 1113}, {'l2_penalty': 6.0, 'alpha': 0.0002636363636363637, 'max_iter': 1198}, {'l2_penalty': 3.0, 'alpha': 0.0002909090909090909, 'max_iter': 1047}, {'l2_penalty': 7.0, 'alpha': 0.0009636363636363637, 'max_iter': 1022}, {'l2_penalty': 9.0, 'alpha': 0.00039999999999999996, 'max_iter': 1559}, {'l2_penalty': 7.0, 'alpha': 0.00022727272727272733, 'max_iter': 1887}, {'l2_penalty': 6.0, 'alpha': 0.0007363636363636363, 'max_iter': 1935}, {'l2_penalty': 2.0, 'alpha': 0.00037272727272727273, 'max_iter': 1185}, {'l2_penalty': 8.0, 'alpha': 0.0003636363636363636, 'max_iter': 1975}], 'scores': [0.9669540229885056, 0.9669540229885057, 0.9669540229885056, 0.9669540229885057, 0.9669540229885057, 0.9669540229885057, 0.9669540229885057, 0.9669540229885056, 0.9669540229885056, 0.9683908045977011], 'best_hyperparameters': {'l2_penalty': 8.0, 'alpha': 0.0003636363636363636, 'max_iter': 1975}, 'best_score': 0.9683908045977011}\n"
     ]
    }
   ],
   "source": [
    "from SIB_machine_learning.src.si.io.csv_file import read_csv\n",
    "import numpy as np\n",
    "from SIB_machine_learning.src.si.models.logistic_regression import LogisticRegression\n",
    "from SIB_machine_learning.src.si.model_selection.randomized_search import randomized_search_cv \n",
    "\n",
    "dataset_path = 'breast-bin.csv'\n",
    "dataset = read_csv(dataset_path, sep=',', features=True, label=True)\n",
    "\n",
    "logistic_regression_model = LogisticRegression()\n",
    "\n",
    "hyperparameter_grid = {\n",
    "    'l2_penalty': np.linspace(1, 10, 10),\n",
    "    'alpha': np.linspace(0.001, 0.0001, 100),\n",
    "    'max_iter': np.random.randint(1000, 2000, 200)\n",
    "}\n",
    "\n",
    "results = randomized_search_cv(\n",
    "    model=logistic_regression_model,\n",
    "    dataset=dataset,\n",
    "    hyperparameter_grid=hyperparameter_grid,\n",
    "    scoring=None,\n",
    "    cv=3,\n",
    "    n_iter=10\n",
    ")\n",
    "\n",
    "print(results)"
   ],
   "metadata": {
    "collapsed": false,
    "ExecuteTime": {
     "end_time": "2023-12-09T15:35:47.906819400Z",
     "start_time": "2023-12-09T15:35:46.443932700Z"
    }
   },
   "id": "4ae06ae7dc3c2c2d"
  },
  {
   "cell_type": "code",
   "execution_count": null,
   "outputs": [],
   "source": [],
   "metadata": {
    "collapsed": false
   },
   "id": "c22301dac51eedc"
  }
 ],
 "metadata": {
  "kernelspec": {
   "display_name": "Python 3",
   "language": "python",
   "name": "python3"
  },
  "language_info": {
   "codemirror_mode": {
    "name": "ipython",
    "version": 2
   },
   "file_extension": ".py",
   "mimetype": "text/x-python",
   "name": "python",
   "nbconvert_exporter": "python",
   "pygments_lexer": "ipython2",
   "version": "2.7.6"
  }
 },
 "nbformat": 4,
 "nbformat_minor": 5
}
