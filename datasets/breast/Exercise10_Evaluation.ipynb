{
 "cells": [
  {
   "cell_type": "markdown",
   "source": [
    "__Test the StackingClassifier model using the breast dataset__"
   ],
   "metadata": {
    "collapsed": false
   },
   "id": "ac69676f88c833ed"
  },
  {
   "cell_type": "code",
   "execution_count": 1,
   "outputs": [
    {
     "name": "stdout",
     "output_type": "stream",
     "text": [
      "Stacking Classifier Score on Test Set: 0.9640287769784173\n"
     ]
    }
   ],
   "source": [
    "from SIB_machine_learning.src.si.models.knn_classifier import KNNClassifier\n",
    "from SIB_machine_learning.src.si.models.logistic_regression import LogisticRegression\n",
    "from SIB_machine_learning.src.si.models.decision_tree_classifier import DecisionTreeClassifier\n",
    "from SIB_machine_learning.src.si.io.csv_file import read_csv\n",
    "from SIB_machine_learning.src.si.model_selection.split import train_test_split\n",
    "from SIB_machine_learning.src.si.ensemble.stacking_classifier import StackingClassifier\n",
    "\n",
    "data = read_csv('breast-bin.csv', sep=',', features=True, label=True)\n",
    "\n",
    "train_data, test_data = train_test_split(data, test_size=0.2, random_state=42)\n",
    "\n",
    "knn_model1 = KNNClassifier(k=5)\n",
    "\n",
    "logistic_model = LogisticRegression()\n",
    "\n",
    "tree_model = DecisionTreeClassifier()\n",
    "\n",
    "knn_model2 = KNNClassifier(k=3)\n",
    "\n",
    "stacking_classifier = StackingClassifier(models=[knn_model1, logistic_model, tree_model], final_model=knn_model2)\n",
    "\n",
    "stacking_classifier.fit(train_data)\n",
    "\n",
    "score = stacking_classifier.score(test_data)\n",
    "print(f\"Stacking Classifier Score on Test Set: {score}\")"
   ],
   "metadata": {
    "collapsed": false,
    "ExecuteTime": {
     "end_time": "2023-12-09T15:32:22.799864500Z",
     "start_time": "2023-12-09T15:32:21.758782300Z"
    }
   },
   "id": "4e3d95b96af603cc"
  },
  {
   "cell_type": "code",
   "execution_count": null,
   "outputs": [],
   "source": [],
   "metadata": {
    "collapsed": false
   },
   "id": "9b366eb55a715219"
  }
 ],
 "metadata": {
  "kernelspec": {
   "display_name": "Python 3",
   "language": "python",
   "name": "python3"
  },
  "language_info": {
   "codemirror_mode": {
    "name": "ipython",
    "version": 2
   },
   "file_extension": ".py",
   "mimetype": "text/x-python",
   "name": "python",
   "nbconvert_exporter": "python",
   "pygments_lexer": "ipython2",
   "version": "2.7.6"
  }
 },
 "nbformat": 4,
 "nbformat_minor": 5
}
