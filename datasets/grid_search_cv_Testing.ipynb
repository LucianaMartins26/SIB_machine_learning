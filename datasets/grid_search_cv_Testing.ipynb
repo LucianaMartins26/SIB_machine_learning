{
 "cells": [
  {
   "cell_type": "markdown",
   "source": [
    "__grid_search_cv Testing__"
   ],
   "metadata": {
    "collapsed": false
   },
   "id": "67de1f4152898d67"
  },
  {
   "cell_type": "code",
   "execution_count": 1,
   "outputs": [
    {
     "name": "stdout",
     "output_type": "stream",
     "text": [
      "Grid Search Cross-Validation Results:\n",
      "{'scores': [0.9669540229885057, 0.9669540229885057, 0.9669540229885057, 0.9669540229885056, 0.9669540229885057, 0.9669540229885057, 0.9669540229885057, 0.9669540229885057], 'hyperparameters': [{'l2_penalty': 1, 'alpha': 0.001, 'max_iter': 1000}, {'l2_penalty': 1, 'alpha': 0.001, 'max_iter': 2000}, {'l2_penalty': 1, 'alpha': 0.0001, 'max_iter': 1000}, {'l2_penalty': 1, 'alpha': 0.0001, 'max_iter': 2000}, {'l2_penalty': 10, 'alpha': 0.001, 'max_iter': 1000}, {'l2_penalty': 10, 'alpha': 0.001, 'max_iter': 2000}, {'l2_penalty': 10, 'alpha': 0.0001, 'max_iter': 1000}, {'l2_penalty': 10, 'alpha': 0.0001, 'max_iter': 2000}], 'best_hyperparameters': {'l2_penalty': 1, 'alpha': 0.001, 'max_iter': 1000}, 'best_score': 0.9669540229885057}\n",
      "Best hyperparameters: {'l2_penalty': 1, 'alpha': 0.001, 'max_iter': 1000}\n",
      "Best score: 0.9669540229885057\n"
     ]
    }
   ],
   "source": [
    "from SIB_machine_learning.src.si.model_selection.grid_search import grid_search_cv\n",
    "from SIB_machine_learning.src.si.io.csv_file import read_csv\n",
    "from SIB_machine_learning.src.si.models.logistic_regression import LogisticRegression\n",
    "\n",
    "dataset_path = 'breast//breast-bin.csv'\n",
    "dataset = read_csv(dataset_path, sep=',', features=True, label=True)\n",
    "\n",
    "logistic_model = LogisticRegression()\n",
    "\n",
    "parameter_grid = {\n",
    "    'l2_penalty': (1, 10),\n",
    "    'alpha': (0.001, 0.0001),\n",
    "    'max_iter': (1000, 2000)\n",
    "}\n",
    "\n",
    "results = grid_search_cv(logistic_model, dataset, hyperparameter_grid=parameter_grid, cv=3)\n",
    "\n",
    "print(\"Grid Search Cross-Validation Results:\")\n",
    "print(results)\n",
    "\n",
    "best_hyperparameters = results['best_hyperparameters']\n",
    "print(f\"Best hyperparameters: {best_hyperparameters}\")\n",
    "\n",
    "best_score = results['best_score']\n",
    "print(f\"Best score: {best_score}\")"
   ],
   "metadata": {
    "collapsed": false,
    "ExecuteTime": {
     "end_time": "2023-11-10T10:07:50.492534100Z",
     "start_time": "2023-11-10T10:07:49.351681600Z"
    }
   },
   "id": "e1e39ab135bc7c28"
  },
  {
   "cell_type": "code",
   "execution_count": null,
   "outputs": [],
   "source": [],
   "metadata": {
    "collapsed": false
   },
   "id": "9a3236b5205b2bc4"
  }
 ],
 "metadata": {
  "kernelspec": {
   "display_name": "Python 3",
   "language": "python",
   "name": "python3"
  },
  "language_info": {
   "codemirror_mode": {
    "name": "ipython",
    "version": 2
   },
   "file_extension": ".py",
   "mimetype": "text/x-python",
   "name": "python",
   "nbconvert_exporter": "python",
   "pygments_lexer": "ipython2",
   "version": "2.7.6"
  }
 },
 "nbformat": 4,
 "nbformat_minor": 5
}
