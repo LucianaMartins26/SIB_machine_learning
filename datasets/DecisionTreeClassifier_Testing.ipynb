{
 "cells": [
  {
   "cell_type": "markdown",
   "source": [
    "__DecisionTreeClassifier Testing__"
   ],
   "metadata": {
    "collapsed": false
   },
   "id": "c97fc19653cc7011"
  },
  {
   "cell_type": "code",
   "execution_count": 1,
   "outputs": [
    {
     "name": "stdout",
     "output_type": "stream",
     "text": [
      "Decision Tree:\n",
      "petal_length <= 1.9\n",
      "\tleft: Iris-setosa\n",
      "\tright: petal_width <= 1.7\n",
      "\t  left: petal_length <= 5.1\n",
      "\t    left: sepal_length <= 4.9\n",
      "\t      left: Iris-versicolor\n",
      "\t      right: Iris-versicolor\n",
      "\t    right: Iris-virginica\n",
      "\t  right: petal_length <= 4.8\n",
      "\t    left: sepal_length <= 5.9\n",
      "\t      left: Iris-versicolor\n",
      "\t      right: Iris-virginica\n",
      "\t    right: Iris-virginica\n",
      "Accuracy on the test set: 0.9795918367346939\n"
     ]
    }
   ],
   "source": [
    "from SIB_machine_learning.src.si.models.decision_tree_classifier import DecisionTreeClassifier\n",
    "from SIB_machine_learning.src.si.io.csv_file import read_csv\n",
    "from SIB_machine_learning.src.si.model_selection.split import train_test_split\n",
    "\n",
    "data = read_csv('iris//iris.csv', sep=',', features=True, label=True)\n",
    "\n",
    "train, test = train_test_split(data, test_size=0.33, random_state=42)\n",
    "\n",
    "model = DecisionTreeClassifier(min_sample_split=3, max_depth=3, mode='gini')\n",
    "model.fit(train)\n",
    "\n",
    "print(\"Decision Tree:\")\n",
    "model.print_tree()\n",
    "\n",
    "accuracy = model.score(test)\n",
    "print(f\"Accuracy on the test set: {accuracy}\")"
   ],
   "metadata": {
    "collapsed": false,
    "ExecuteTime": {
     "end_time": "2023-11-10T09:50:06.173771700Z",
     "start_time": "2023-11-10T09:50:05.382476700Z"
    }
   },
   "id": "31f19e458504009a"
  },
  {
   "cell_type": "code",
   "execution_count": null,
   "outputs": [],
   "source": [],
   "metadata": {
    "collapsed": false
   },
   "id": "548aa0f6c70f7574"
  }
 ],
 "metadata": {
  "kernelspec": {
   "display_name": "Python 3",
   "language": "python",
   "name": "python3"
  },
  "language_info": {
   "codemirror_mode": {
    "name": "ipython",
    "version": 2
   },
   "file_extension": ".py",
   "mimetype": "text/x-python",
   "name": "python",
   "nbconvert_exporter": "python",
   "pygments_lexer": "ipython2",
   "version": "2.7.6"
  }
 },
 "nbformat": 4,
 "nbformat_minor": 5
}
