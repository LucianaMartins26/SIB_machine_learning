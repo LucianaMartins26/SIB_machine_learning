{
 "cells": [
  {
   "cell_type": "markdown",
   "source": [
    "__VotingClassifier Testing__"
   ],
   "metadata": {
    "collapsed": false
   },
   "id": "6921732f0256b551"
  },
  {
   "cell_type": "code",
   "execution_count": 1,
   "outputs": [
    {
     "name": "stdout",
     "output_type": "stream",
     "text": [
      "Score of the VotingClassifier on the test set: 0.9784172661870504\n",
      "Predictions on the test set:\n",
      "[1. 1. 0. 0. 0. 0. 1. 0. 0. 1. 0. 1. 1. 1. 0. 0. 0. 0. 1. 0. 0. 1. 0. 1.\n",
      " 1. 1. 0. 0. 0. 0. 1. 0. 1. 0. 0. 0. 0. 0. 1. 1. 0. 0. 1. 0. 0. 1. 1. 0.\n",
      " 0. 1. 1. 0. 0. 0. 0. 1. 0. 0. 1. 0. 1. 1. 1. 0. 0. 1. 0. 0. 1. 0. 0. 0.\n",
      " 0. 0. 1. 0. 0. 1. 0. 1. 0. 1. 0. 0. 0. 1. 1. 0. 0. 0. 0. 1. 0. 1. 1. 0.\n",
      " 0. 0. 0. 1. 1. 0. 1. 1. 0. 1. 0. 0. 0. 1. 1. 1. 0. 0. 0. 1. 0. 1. 1. 0.\n",
      " 0. 0. 1. 0. 0. 0. 0. 0. 0. 0. 0. 1. 0. 0. 0. 1. 0. 0. 1.]\n"
     ]
    }
   ],
   "source": [
    "from SIB_machine_learning.src.si.ensemble.voting_classifier import VotingClassifier\n",
    "from SIB_machine_learning.src.si.io.csv_file import read_csv\n",
    "from SIB_machine_learning.src.si.model_selection.split import train_test_split\n",
    "from SIB_machine_learning.src.si.models.knn_classifier import KNNClassifier\n",
    "from SIB_machine_learning.src.si.models.logistic_regression import LogisticRegression\n",
    "from SIB_machine_learning.src.si.models.decision_tree_classifier import DecisionTreeClassifier\n",
    "\n",
    "data = read_csv('breast//breast-bin.csv', sep=',', features=True, label=True)\n",
    "\n",
    "train, test = train_test_split(data, test_size=0.2, random_state=42)\n",
    "\n",
    "knn = KNNClassifier(k=3)\n",
    "lg = LogisticRegression(l2_penalty=1, alpha=0.001, max_iter=1000)\n",
    "decision_tree = DecisionTreeClassifier(min_sample_split=3, max_depth=3, mode='gini')\n",
    "\n",
    "voting = VotingClassifier(models=[knn, lg, decision_tree])\n",
    "\n",
    "voting.fit(train)\n",
    "\n",
    "score = voting.score(test)\n",
    "print(f\"Score of the VotingClassifier on the test set: {score}\")\n",
    "\n",
    "predictions = voting.predict(test)\n",
    "print(\"Predictions on the test set:\")\n",
    "print(predictions)"
   ],
   "metadata": {
    "collapsed": false,
    "ExecuteTime": {
     "end_time": "2023-11-10T09:39:20.724780500Z",
     "start_time": "2023-11-10T09:39:19.508389300Z"
    }
   },
   "id": "62ea682f425fdc0a"
  },
  {
   "cell_type": "code",
   "execution_count": null,
   "outputs": [],
   "source": [],
   "metadata": {
    "collapsed": false
   },
   "id": "e5e839e79a501d71"
  }
 ],
 "metadata": {
  "kernelspec": {
   "display_name": "Python 3",
   "language": "python",
   "name": "python3"
  },
  "language_info": {
   "codemirror_mode": {
    "name": "ipython",
    "version": 2
   },
   "file_extension": ".py",
   "mimetype": "text/x-python",
   "name": "python",
   "nbconvert_exporter": "python",
   "pygments_lexer": "ipython2",
   "version": "2.7.6"
  }
 },
 "nbformat": 4,
 "nbformat_minor": 5
}
