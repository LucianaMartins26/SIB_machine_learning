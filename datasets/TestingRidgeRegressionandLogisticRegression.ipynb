{
 "cells": [
  {
   "cell_type": "markdown",
   "source": [
    "__TestingRidgeRegression andLogisticRegression__"
   ],
   "metadata": {
    "collapsed": false
   },
   "id": "644daf40009c1502"
  },
  {
   "cell_type": "code",
   "execution_count": 7,
   "outputs": [],
   "source": [
    "\"\"\" Use the dataset cpu.csv \"\"\""
   ],
   "metadata": {
    "collapsed": false,
    "ExecuteTime": {
     "end_time": "2023-10-21T18:45:09.275187800Z",
     "start_time": "2023-10-21T18:45:09.251782300Z"
    }
   },
   "id": "d5b604a4016318c3"
  }
 ],
 "metadata": {
  "kernelspec": {
   "display_name": "Python 3",
   "language": "python",
   "name": "python3"
  },
  "language_info": {
   "codemirror_mode": {
    "name": "ipython",
    "version": 2
   },
   "file_extension": ".py",
   "mimetype": "text/x-python",
   "name": "python",
   "nbconvert_exporter": "python",
   "pygments_lexer": "ipython2",
   "version": "2.7.6"
  }
 },
 "nbformat": 4,
 "nbformat_minor": 5
}
