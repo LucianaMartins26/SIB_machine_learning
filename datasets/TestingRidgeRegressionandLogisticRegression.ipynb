{
 "cells": [
  {
   "cell_type": "markdown",
   "source": [
    "__TestingRidgeRegression andLogisticRegression__"
   ],
   "metadata": {
    "collapsed": false
   },
   "id": "644daf40009c1502"
  },
  {
   "cell_type": "code",
   "execution_count": 11,
   "outputs": [
    {
     "name": "stdout",
     "output_type": "stream",
     "text": [
      "Score: 9729.680199189532\n",
      "Cost: 4919.518421492163\n"
     ]
    }
   ],
   "source": [
    "from SIB_machine_learning.src.si.data.dataset import Dataset\n",
    "from SIB_machine_learning.src.si.models.ridge_regression import RidgeRegression\n",
    "from SIB_machine_learning.src.si.io.csv_file import read_csv\n",
    "from sklearn.model_selection import train_test_split\n",
    "\n",
    "file = read_csv('cpu//cpu.csv', sep=',', features=True, label=True)\n",
    "\n",
    "X_train, X_test, y_train, y_test = train_test_split(file.X, file.y, test_size=0.2, random_state=42)\n",
    "\n",
    "ridge_regression = RidgeRegression(l2_penalty=1.0, alpha=0.001, max_iter=1000, patience=5, scale=True)\n",
    "\n",
    "ridge_regression.fit(Dataset(X=X_train, y=y_train))\n",
    "\n",
    "score = ridge_regression.score(Dataset(X=X_test, y=y_test))\n",
    "cost = ridge_regression.cost(Dataset(X=X_test, y=y_test))\n",
    "\n",
    "print(f\"Score: {score}\")\n",
    "print(f\"Cost: {cost}\")"
   ],
   "metadata": {
    "collapsed": false,
    "ExecuteTime": {
     "end_time": "2023-11-10T09:26:14.725391800Z",
     "start_time": "2023-11-10T09:26:14.629941800Z"
    }
   },
   "id": "b92c2c29a936718a"
  },
  {
   "cell_type": "code",
   "execution_count": 12,
   "outputs": [
    {
     "name": "stdout",
     "output_type": "stream",
     "text": [
      "Score: 0.9856115107913669\n",
      "Cost: 0.6449832505507311\n"
     ]
    }
   ],
   "source": [
    "from SIB_machine_learning.src.si.models.logistic_regression import LogisticRegression\n",
    "from SIB_machine_learning.src.si.io.csv_file import read_csv\n",
    "from SIB_machine_learning.src.si.data.dataset import Dataset\n",
    "from SIB_machine_learning.src.si.model_selection.split import train_test_split\n",
    "\n",
    "file = read_csv('breast//breast-bin.csv', sep=',', features=True, label=True)\n",
    "\n",
    "dataset_ = Dataset(X=file.X, y=file.y)\n",
    "\n",
    "dataset_train, dataset_test = train_test_split(dataset_, test_size=0.2)\n",
    "\n",
    "logistic_regression = LogisticRegression(l2_penalty=1, alpha=0.001, max_iter=1000)\n",
    "logistic_regression.fit(dataset_train)\n",
    "\n",
    "score = logistic_regression.score(dataset_test)\n",
    "cost = logistic_regression.cost(dataset_test)\n",
    "\n",
    "print(f\"Score: {score}\")\n",
    "print(f\"Cost: {cost}\")"
   ],
   "metadata": {
    "collapsed": false,
    "ExecuteTime": {
     "end_time": "2023-11-10T09:28:04.014358400Z",
     "start_time": "2023-11-10T09:28:03.965166600Z"
    }
   },
   "id": "fb73b1a69116d30c"
  },
  {
   "cell_type": "code",
   "execution_count": null,
   "outputs": [],
   "source": [],
   "metadata": {
    "collapsed": false
   },
   "id": "5a8c907563a4030e"
  }
 ],
 "metadata": {
  "kernelspec": {
   "display_name": "Python 3",
   "language": "python",
   "name": "python3"
  },
  "language_info": {
   "codemirror_mode": {
    "name": "ipython",
    "version": 2
   },
   "file_extension": ".py",
   "mimetype": "text/x-python",
   "name": "python",
   "nbconvert_exporter": "python",
   "pygments_lexer": "ipython2",
   "version": "2.7.6"
  }
 },
 "nbformat": 4,
 "nbformat_minor": 5
}
