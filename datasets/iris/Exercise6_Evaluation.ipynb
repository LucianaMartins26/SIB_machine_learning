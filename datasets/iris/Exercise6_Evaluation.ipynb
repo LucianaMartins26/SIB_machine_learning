{
 "cells": [
  {
   "cell_type": "markdown",
   "source": [
    "__Exercise 6: Implementing stratified splitting__\n",
    "\n",
    "_Test the \"stratified_train_test_split\" function with the iris dataset._"
   ],
   "metadata": {
    "collapsed": false
   },
   "id": "2e5e75f9169345fc"
  },
  {
   "cell_type": "code",
   "execution_count": 1,
   "outputs": [],
   "source": [
    "from SIB_machine_learning.src.si.io.csv_file import read_csv\n",
    "\n",
    "file = read_csv('iris.csv', sep=',', features = True, label = True)"
   ],
   "metadata": {
    "collapsed": false,
    "ExecuteTime": {
     "end_time": "2023-12-09T15:32:58.042272300Z",
     "start_time": "2023-12-09T15:32:57.348688600Z"
    }
   },
   "id": "cc819aeb6ece66c8"
  },
  {
   "cell_type": "code",
   "execution_count": 2,
   "outputs": [],
   "source": [
    "from SIB_machine_learning.src.si.model_selection.split import stratified_train_test_split\n",
    "\n",
    "train_dataset, test_dataset = stratified_train_test_split(file, 0.2)"
   ],
   "metadata": {
    "collapsed": false,
    "ExecuteTime": {
     "end_time": "2023-12-09T15:32:58.059025700Z",
     "start_time": "2023-12-09T15:32:58.034678Z"
    }
   },
   "id": "96c42a1fe821920c"
  },
  {
   "cell_type": "code",
   "execution_count": 3,
   "outputs": [
    {
     "data": {
      "text/plain": "(120, 4)"
     },
     "execution_count": 3,
     "metadata": {},
     "output_type": "execute_result"
    }
   ],
   "source": [
    "train_dataset.shape()"
   ],
   "metadata": {
    "collapsed": false,
    "ExecuteTime": {
     "end_time": "2023-12-09T15:32:58.095835900Z",
     "start_time": "2023-12-09T15:32:58.073599900Z"
    }
   },
   "id": "d44309bfa1db1b6b"
  },
  {
   "cell_type": "code",
   "execution_count": 4,
   "outputs": [
    {
     "data": {
      "text/plain": "(30, 4)"
     },
     "execution_count": 4,
     "metadata": {},
     "output_type": "execute_result"
    }
   ],
   "source": [
    "test_dataset.shape()"
   ],
   "metadata": {
    "collapsed": false,
    "ExecuteTime": {
     "end_time": "2023-12-09T15:32:58.109863400Z",
     "start_time": "2023-12-09T15:32:58.078112Z"
    }
   },
   "id": "acf7964692ef310e"
  },
  {
   "cell_type": "code",
   "execution_count": 5,
   "outputs": [
    {
     "data": {
      "text/plain": "(150, 4)"
     },
     "execution_count": 5,
     "metadata": {},
     "output_type": "execute_result"
    }
   ],
   "source": [
    "file.shape()"
   ],
   "metadata": {
    "collapsed": false,
    "ExecuteTime": {
     "end_time": "2023-12-09T15:32:58.196948200Z",
     "start_time": "2023-12-09T15:32:58.117568300Z"
    }
   },
   "id": "e6d6de1955c5edfa"
  },
  {
   "cell_type": "code",
   "execution_count": 6,
   "outputs": [
    {
     "data": {
      "text/plain": "array([[4.3, 3. , 1.1, 0.1],\n       [5.1, 3.4, 1.5, 0.2],\n       [4.8, 3.1, 1.6, 0.2],\n       [4.8, 3. , 1.4, 0.3],\n       [5.1, 3.5, 1.4, 0.3],\n       [5.3, 3.7, 1.5, 0.2],\n       [5. , 3.4, 1.6, 0.4],\n       [5. , 3. , 1.6, 0.2],\n       [5.2, 4.1, 1.5, 0.1],\n       [5.1, 3.8, 1.5, 0.3],\n       [5.7, 2.6, 3.5, 1. ],\n       [5.6, 3. , 4.1, 1.3],\n       [6.9, 3.1, 4.9, 1.5],\n       [5.7, 2.9, 4.2, 1.3],\n       [5.7, 3. , 4.2, 1.2],\n       [5.5, 2.5, 4. , 1.3],\n       [6.3, 2.5, 4.9, 1.5],\n       [5.6, 2.7, 4.2, 1.3],\n       [5. , 2. , 3.5, 1. ],\n       [7. , 3.2, 4.7, 1.4],\n       [5.8, 2.7, 5.1, 1.9],\n       [5.9, 3. , 5.1, 1.8],\n       [7.6, 3. , 6.6, 2.1],\n       [6.8, 3.2, 5.9, 2.3],\n       [7.2, 3. , 5.8, 1.6],\n       [6.4, 2.8, 5.6, 2.1],\n       [7.7, 3.8, 6.7, 2.2],\n       [6.3, 2.9, 5.6, 1.8],\n       [7.7, 2.6, 6.9, 2.3],\n       [6.4, 3.2, 5.3, 2.3]])"
     },
     "execution_count": 6,
     "metadata": {},
     "output_type": "execute_result"
    }
   ],
   "source": [
    "test_dataset.X"
   ],
   "metadata": {
    "collapsed": false,
    "ExecuteTime": {
     "end_time": "2023-12-09T15:32:58.212630800Z",
     "start_time": "2023-12-09T15:32:58.136139900Z"
    }
   },
   "id": "a3c6aa5ccee94fa3"
  },
  {
   "cell_type": "code",
   "execution_count": 7,
   "outputs": [
    {
     "data": {
      "text/plain": "array(['Iris-setosa', 'Iris-setosa', 'Iris-setosa', 'Iris-setosa',\n       'Iris-setosa', 'Iris-setosa', 'Iris-setosa', 'Iris-setosa',\n       'Iris-setosa', 'Iris-setosa', 'Iris-versicolor', 'Iris-versicolor',\n       'Iris-versicolor', 'Iris-versicolor', 'Iris-versicolor',\n       'Iris-versicolor', 'Iris-versicolor', 'Iris-versicolor',\n       'Iris-versicolor', 'Iris-versicolor', 'Iris-virginica',\n       'Iris-virginica', 'Iris-virginica', 'Iris-virginica',\n       'Iris-virginica', 'Iris-virginica', 'Iris-virginica',\n       'Iris-virginica', 'Iris-virginica', 'Iris-virginica'], dtype=object)"
     },
     "execution_count": 7,
     "metadata": {},
     "output_type": "execute_result"
    }
   ],
   "source": [
    "test_dataset.y"
   ],
   "metadata": {
    "collapsed": false,
    "ExecuteTime": {
     "end_time": "2023-12-09T15:32:58.212630800Z",
     "start_time": "2023-12-09T15:32:58.171373500Z"
    }
   },
   "id": "ee6e6a0bf7d663c6"
  },
  {
   "cell_type": "code",
   "execution_count": 8,
   "outputs": [
    {
     "data": {
      "text/plain": "array([[4.8, 3. , 1.4, 0.1],\n       [5. , 3.6, 1.4, 0.2],\n       [4.9, 3.1, 1.5, 0.1],\n       [4.4, 2.9, 1.4, 0.2],\n       [4.6, 3.1, 1.5, 0.2],\n       [4.6, 3.4, 1.4, 0.3],\n       [4.5, 2.3, 1.3, 0.3],\n       [5.1, 3.8, 1.6, 0.2],\n       [4.6, 3.2, 1.4, 0.2],\n       [5.7, 4.4, 1.5, 0.4],\n       [4.9, 3.1, 1.5, 0.1],\n       [5.4, 3.9, 1.3, 0.4],\n       [4.8, 3.4, 1.9, 0.2],\n       [4.9, 3.1, 1.5, 0.1],\n       [5.4, 3.4, 1.5, 0.4],\n       [5.1, 3.5, 1.4, 0.2],\n       [5.1, 3.8, 1.9, 0.4],\n       [5.2, 3.5, 1.5, 0.2],\n       [5.5, 4.2, 1.4, 0.2],\n       [5.4, 3.9, 1.7, 0.4],\n       [4.7, 3.2, 1.6, 0.2],\n       [4.8, 3.4, 1.6, 0.2],\n       [5.5, 3.5, 1.3, 0.2],\n       [4.9, 3. , 1.4, 0.2],\n       [5.1, 3.7, 1.5, 0.4],\n       [4.7, 3.2, 1.3, 0.2],\n       [5. , 3.5, 1.6, 0.6],\n       [5. , 3.2, 1.2, 0.2],\n       [5.1, 3.3, 1.7, 0.5],\n       [5. , 3.5, 1.3, 0.3],\n       [5.4, 3.7, 1.5, 0.2],\n       [4.6, 3.6, 1. , 0.2],\n       [5.7, 3.8, 1.7, 0.3],\n       [5. , 3.3, 1.4, 0.2],\n       [5.4, 3.4, 1.7, 0.2],\n       [5. , 3.4, 1.5, 0.2],\n       [4.4, 3.2, 1.3, 0.2],\n       [5.8, 4. , 1.2, 0.2],\n       [5.2, 3.4, 1.4, 0.2],\n       [4.4, 3. , 1.3, 0.2],\n       [6.2, 2.2, 4.5, 1.5],\n       [5.5, 2.4, 3.8, 1.1],\n       [5.7, 2.8, 4.1, 1.3],\n       [6. , 2.7, 5.1, 1.6],\n       [6.1, 2.8, 4. , 1.3],\n       [6.5, 2.8, 4.6, 1.5],\n       [6.4, 2.9, 4.3, 1.3],\n       [5.8, 2.7, 3.9, 1.2],\n       [6. , 2.2, 4. , 1. ],\n       [5.5, 2.4, 3.7, 1. ],\n       [5.9, 3.2, 4.8, 1.8],\n       [6.1, 2.8, 4.7, 1.2],\n       [6.8, 2.8, 4.8, 1.4],\n       [5.8, 2.6, 4. , 1.2],\n       [5.6, 2.9, 3.6, 1.3],\n       [6.7, 3.1, 4.4, 1.4],\n       [5.5, 2.6, 4.4, 1.2],\n       [6.1, 3. , 4.6, 1.4],\n       [5.2, 2.7, 3.9, 1.4],\n       [6.7, 3.1, 4.7, 1.5],\n       [5.9, 3. , 4.2, 1.5],\n       [5.1, 2.5, 3. , 1.1],\n       [5.8, 2.7, 4.1, 1. ],\n       [6. , 2.9, 4.5, 1.5],\n       [6.3, 2.3, 4.4, 1.3],\n       [5.7, 2.8, 4.5, 1.3],\n       [6.2, 2.9, 4.3, 1.3],\n       [5.5, 2.3, 4. , 1.3],\n       [6. , 3.4, 4.5, 1.6],\n       [5.6, 3. , 4.5, 1.5],\n       [6.1, 2.9, 4.7, 1.4],\n       [5.4, 3. , 4.5, 1.5],\n       [4.9, 2.4, 3.3, 1. ],\n       [5. , 2.3, 3.3, 1. ],\n       [6.3, 3.3, 4.7, 1.6],\n       [6.7, 3. , 5. , 1.7],\n       [5.6, 2.5, 3.9, 1.1],\n       [6.4, 3.2, 4.5, 1.5],\n       [6.6, 3. , 4.4, 1.4],\n       [6.6, 2.9, 4.6, 1.3],\n       [6. , 2.2, 5. , 1.5],\n       [6.8, 3. , 5.5, 2.1],\n       [7.2, 3.6, 6.1, 2.5],\n       [5.8, 2.7, 5.1, 1.9],\n       [6.5, 3.2, 5.1, 2. ],\n       [6.9, 3.1, 5.4, 2.1],\n       [6.9, 3.2, 5.7, 2.3],\n       [7.7, 3. , 6.1, 2.3],\n       [6.7, 3.3, 5.7, 2.1],\n       [6.3, 2.5, 5. , 1.9],\n       [5.7, 2.5, 5. , 2. ],\n       [5.8, 2.8, 5.1, 2.4],\n       [7.9, 3.8, 6.4, 2. ],\n       [7.2, 3.2, 6. , 1.8],\n       [6.3, 3.3, 6. , 2.5],\n       [7.4, 2.8, 6.1, 1.9],\n       [6.2, 2.8, 4.8, 1.8],\n       [5.6, 2.8, 4.9, 2. ],\n       [6.4, 3.1, 5.5, 1.8],\n       [6.3, 3.4, 5.6, 2.4],\n       [7.1, 3. , 5.9, 2.1],\n       [6.7, 3.3, 5.7, 2.5],\n       [6.3, 2.7, 4.9, 1.8],\n       [7.7, 2.8, 6.7, 2. ],\n       [6.7, 3. , 5.2, 2.3],\n       [6.3, 2.8, 5.1, 1.5],\n       [6.4, 2.7, 5.3, 1.9],\n       [6.2, 3.4, 5.4, 2.3],\n       [6.7, 2.5, 5.8, 1.8],\n       [4.9, 2.5, 4.5, 1.7],\n       [6.1, 3. , 4.9, 1.8],\n       [6.7, 3.1, 5.6, 2.4],\n       [6. , 3. , 4.8, 1.8],\n       [6.9, 3.1, 5.1, 2.3],\n       [6.5, 3. , 5.8, 2.2],\n       [6.4, 2.8, 5.6, 2.2],\n       [6.5, 3. , 5.2, 2. ],\n       [6.1, 2.6, 5.6, 1.4],\n       [7.3, 2.9, 6.3, 1.8],\n       [6.5, 3. , 5.5, 1.8]])"
     },
     "execution_count": 8,
     "metadata": {},
     "output_type": "execute_result"
    }
   ],
   "source": [
    "train_dataset.X"
   ],
   "metadata": {
    "collapsed": false,
    "ExecuteTime": {
     "end_time": "2023-12-09T15:32:58.233904400Z",
     "start_time": "2023-12-09T15:32:58.205622900Z"
    }
   },
   "id": "e72a174e071ef602"
  },
  {
   "cell_type": "code",
   "execution_count": 9,
   "outputs": [
    {
     "data": {
      "text/plain": "array(['Iris-setosa', 'Iris-setosa', 'Iris-setosa', 'Iris-setosa',\n       'Iris-setosa', 'Iris-setosa', 'Iris-setosa', 'Iris-setosa',\n       'Iris-setosa', 'Iris-setosa', 'Iris-setosa', 'Iris-setosa',\n       'Iris-setosa', 'Iris-setosa', 'Iris-setosa', 'Iris-setosa',\n       'Iris-setosa', 'Iris-setosa', 'Iris-setosa', 'Iris-setosa',\n       'Iris-setosa', 'Iris-setosa', 'Iris-setosa', 'Iris-setosa',\n       'Iris-setosa', 'Iris-setosa', 'Iris-setosa', 'Iris-setosa',\n       'Iris-setosa', 'Iris-setosa', 'Iris-setosa', 'Iris-setosa',\n       'Iris-setosa', 'Iris-setosa', 'Iris-setosa', 'Iris-setosa',\n       'Iris-setosa', 'Iris-setosa', 'Iris-setosa', 'Iris-setosa',\n       'Iris-versicolor', 'Iris-versicolor', 'Iris-versicolor',\n       'Iris-versicolor', 'Iris-versicolor', 'Iris-versicolor',\n       'Iris-versicolor', 'Iris-versicolor', 'Iris-versicolor',\n       'Iris-versicolor', 'Iris-versicolor', 'Iris-versicolor',\n       'Iris-versicolor', 'Iris-versicolor', 'Iris-versicolor',\n       'Iris-versicolor', 'Iris-versicolor', 'Iris-versicolor',\n       'Iris-versicolor', 'Iris-versicolor', 'Iris-versicolor',\n       'Iris-versicolor', 'Iris-versicolor', 'Iris-versicolor',\n       'Iris-versicolor', 'Iris-versicolor', 'Iris-versicolor',\n       'Iris-versicolor', 'Iris-versicolor', 'Iris-versicolor',\n       'Iris-versicolor', 'Iris-versicolor', 'Iris-versicolor',\n       'Iris-versicolor', 'Iris-versicolor', 'Iris-versicolor',\n       'Iris-versicolor', 'Iris-versicolor', 'Iris-versicolor',\n       'Iris-versicolor', 'Iris-virginica', 'Iris-virginica',\n       'Iris-virginica', 'Iris-virginica', 'Iris-virginica',\n       'Iris-virginica', 'Iris-virginica', 'Iris-virginica',\n       'Iris-virginica', 'Iris-virginica', 'Iris-virginica',\n       'Iris-virginica', 'Iris-virginica', 'Iris-virginica',\n       'Iris-virginica', 'Iris-virginica', 'Iris-virginica',\n       'Iris-virginica', 'Iris-virginica', 'Iris-virginica',\n       'Iris-virginica', 'Iris-virginica', 'Iris-virginica',\n       'Iris-virginica', 'Iris-virginica', 'Iris-virginica',\n       'Iris-virginica', 'Iris-virginica', 'Iris-virginica',\n       'Iris-virginica', 'Iris-virginica', 'Iris-virginica',\n       'Iris-virginica', 'Iris-virginica', 'Iris-virginica',\n       'Iris-virginica', 'Iris-virginica', 'Iris-virginica',\n       'Iris-virginica', 'Iris-virginica'], dtype=object)"
     },
     "execution_count": 9,
     "metadata": {},
     "output_type": "execute_result"
    }
   ],
   "source": [
    "train_dataset.y"
   ],
   "metadata": {
    "collapsed": false,
    "ExecuteTime": {
     "end_time": "2023-12-09T15:32:58.273569900Z",
     "start_time": "2023-12-09T15:32:58.220482500Z"
    }
   },
   "id": "2327262053683b77"
  },
  {
   "cell_type": "code",
   "execution_count": 9,
   "outputs": [],
   "source": [],
   "metadata": {
    "collapsed": false,
    "ExecuteTime": {
     "end_time": "2023-12-09T15:32:58.273569900Z",
     "start_time": "2023-12-09T15:32:58.233904400Z"
    }
   },
   "id": "368990484942a078"
  },
  {
   "cell_type": "code",
   "execution_count": null,
   "outputs": [],
   "source": [],
   "metadata": {
    "collapsed": false
   },
   "id": "ea6bd0265e497b17"
  }
 ],
 "metadata": {
  "kernelspec": {
   "display_name": "Python 3",
   "language": "python",
   "name": "python3"
  },
  "language_info": {
   "codemirror_mode": {
    "name": "ipython",
    "version": 2
   },
   "file_extension": ".py",
   "mimetype": "text/x-python",
   "name": "python",
   "nbconvert_exporter": "python",
   "pygments_lexer": "ipython2",
   "version": "2.7.6"
  }
 },
 "nbformat": 4,
 "nbformat_minor": 5
}
