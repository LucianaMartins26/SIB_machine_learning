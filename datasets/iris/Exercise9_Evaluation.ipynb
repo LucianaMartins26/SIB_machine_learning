{
 "cells": [
  {
   "cell_type": "markdown",
   "source": [
    "__Testing RandomForest with Iris__"
   ],
   "metadata": {
    "collapsed": false
   },
   "id": "c3fc046077d1241e"
  },
  {
   "cell_type": "code",
   "execution_count": 4,
   "outputs": [
    {
     "name": "stdout",
     "output_type": "stream",
     "text": [
      "Accuracy on Iris Test Set: 1.0\n"
     ]
    }
   ],
   "source": [
    "from sklearn.datasets import load_iris\n",
    "from sklearn.model_selection import train_test_split\n",
    "from sklearn.metrics import accuracy_score\n",
    "from SIB_machine_learning.src.si.data.dataset import Dataset\n",
    "from SIB_machine_learning.src.si.models.random_forest_classifier import RandomForestClassifier\n",
    "\n",
    "# Carregar o conjunto de dados Iris\n",
    "iris = load_iris()\n",
    "X = iris.data\n",
    "y = iris.target\n",
    "\n",
    "# Dividir o conjunto de dados em treinamento e teste\n",
    "X_train, X_test, y_train, y_test = train_test_split(X, y, test_size=0.2, random_state=42)\n",
    "\n",
    "# Instanciar o RandomForestClassifier\n",
    "random_forest = RandomForestClassifier(n_estimators=10, max_features=None, min_sample_split=2, max_depth=None, mode='gini', seed=42)\n",
    "\n",
    "# Ajustar o modelo ao conjunto de treinamento\n",
    "random_forest.fit(Dataset(X_train, y_train))\n",
    "\n",
    "# Fazer previsões no conjunto de teste\n",
    "predictions = random_forest.predict(Dataset(X_test, y_test))\n",
    "\n",
    "# Avaliar o desempenho usando a acurácia\n",
    "accuracy_test = accuracy_score(y_test, predictions)\n",
    "\n",
    "print(\"Accuracy on Iris Test Set:\", accuracy_test)"
   ],
   "metadata": {
    "collapsed": false,
    "ExecuteTime": {
     "end_time": "2023-12-14T10:04:54.428147Z",
     "start_time": "2023-12-14T10:04:53.496016700Z"
    }
   },
   "id": "initial_id"
  },
  {
   "cell_type": "code",
   "execution_count": null,
   "outputs": [],
   "source": [],
   "metadata": {
    "collapsed": false
   },
   "id": "c18535c2148c00d1"
  }
 ],
 "metadata": {
  "kernelspec": {
   "display_name": "Python 3",
   "language": "python",
   "name": "python3"
  },
  "language_info": {
   "codemirror_mode": {
    "name": "ipython",
    "version": 2
   },
   "file_extension": ".py",
   "mimetype": "text/x-python",
   "name": "python",
   "nbconvert_exporter": "python",
   "pygments_lexer": "ipython2",
   "version": "2.7.6"
  }
 },
 "nbformat": 4,
 "nbformat_minor": 5
}
