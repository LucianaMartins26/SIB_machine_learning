{
 "cells": [
  {
   "cell_type": "markdown",
   "source": [
    "__Exercise 3: Implementing SelectPercentile__"
   ],
   "metadata": {
    "collapsed": false
   }
  },
  {
   "cell_type": "markdown",
   "source": [
    "_Test the SelectPercentile class in a Jupyter notebook using the \"iris.csv\" dataset (classification)._"
   ],
   "metadata": {
    "collapsed": false
   }
  },
  {
   "cell_type": "code",
   "execution_count": 1,
   "outputs": [],
   "source": [
    "from SIB_machine_learning.src.si.io.csv_file import read_csv\n",
    "\n",
    "file = read_csv('iris.csv', sep=',', features = True, label = True)"
   ],
   "metadata": {
    "collapsed": false,
    "ExecuteTime": {
     "end_time": "2023-12-09T15:32:46.247802400Z",
     "start_time": "2023-12-09T15:32:45.499525Z"
    }
   }
  },
  {
   "cell_type": "code",
   "execution_count": 2,
   "outputs": [
    {
     "data": {
      "text/plain": "Index(['sepal_length', 'sepal_width', 'petal_length', 'petal_width'], dtype='object')"
     },
     "execution_count": 2,
     "metadata": {},
     "output_type": "execute_result"
    }
   ],
   "source": [
    "file.features"
   ],
   "metadata": {
    "collapsed": false,
    "ExecuteTime": {
     "end_time": "2023-12-09T15:32:46.308858800Z",
     "start_time": "2023-12-09T15:32:46.258402100Z"
    }
   }
  },
  {
   "cell_type": "code",
   "execution_count": 3,
   "outputs": [
    {
     "name": "stdout",
     "output_type": "stream",
     "text": [
      "['petal_width' 'petal_length']\n"
     ]
    }
   ],
   "source": [
    "from SIB_machine_learning.src.si.feature_selection.select_percentile import SelectPercentile\n",
    "\n",
    "select_percentile = SelectPercentile(percentile=50)\n",
    "select_percentile.fit(file)\n",
    "dataset = select_percentile.transform(file)\n",
    "print(dataset.features)"
   ],
   "metadata": {
    "collapsed": false,
    "ExecuteTime": {
     "end_time": "2023-12-09T15:32:47.908282300Z",
     "start_time": "2023-12-09T15:32:46.283437Z"
    }
   }
  },
  {
   "cell_type": "code",
   "execution_count": 4,
   "outputs": [
    {
     "name": "stdout",
     "output_type": "stream",
     "text": [
      "['sepal_width' 'sepal_length' 'petal_width' 'petal_length']\n"
     ]
    }
   ],
   "source": [
    "select_percentile = SelectPercentile(percentile=20)\n",
    "dataset = select_percentile.fit_transform(file)\n",
    "print(dataset.features)"
   ],
   "metadata": {
    "collapsed": false,
    "ExecuteTime": {
     "end_time": "2023-12-09T15:32:47.908282300Z",
     "start_time": "2023-12-09T15:32:47.799064400Z"
    }
   }
  },
  {
   "cell_type": "code",
   "execution_count": 5,
   "outputs": [
    {
     "name": "stdout",
     "output_type": "stream",
     "text": [
      "['petal_length']\n"
     ]
    }
   ],
   "source": [
    "select_percentile = SelectPercentile(percentile=40)\n",
    "dataset = select_percentile.fit_transform(file)\n",
    "print(dataset.features)"
   ],
   "metadata": {
    "collapsed": false,
    "ExecuteTime": {
     "end_time": "2023-12-09T15:32:47.908282300Z",
     "start_time": "2023-12-09T15:32:47.814691200Z"
    }
   }
  },
  {
   "cell_type": "code",
   "execution_count": 6,
   "outputs": [
    {
     "name": "stdout",
     "output_type": "stream",
     "text": [
      "['sepal_length' 'petal_width' 'petal_length']\n"
     ]
    }
   ],
   "source": [
    "select_percentile = SelectPercentile(percentile=80)\n",
    "dataset = select_percentile.fit_transform(file)\n",
    "print(dataset.features)"
   ],
   "metadata": {
    "collapsed": false,
    "ExecuteTime": {
     "end_time": "2023-12-09T15:32:47.908282300Z",
     "start_time": "2023-12-09T15:32:47.830316400Z"
    }
   }
  },
  {
   "cell_type": "code",
   "execution_count": 7,
   "outputs": [
    {
     "name": "stdout",
     "output_type": "stream",
     "text": [
      "['sepal_width' 'sepal_length' 'petal_width' 'petal_length']\n"
     ]
    }
   ],
   "source": [
    "select_percentile = SelectPercentile() # default de 10\n",
    "dataset = select_percentile.fit_transform(file)\n",
    "print(dataset.features)"
   ],
   "metadata": {
    "collapsed": false,
    "ExecuteTime": {
     "end_time": "2023-12-09T15:32:47.908282300Z",
     "start_time": "2023-12-09T15:32:47.845941600Z"
    }
   }
  },
  {
   "cell_type": "code",
   "execution_count": 7,
   "outputs": [],
   "source": [],
   "metadata": {
    "collapsed": false,
    "ExecuteTime": {
     "end_time": "2023-12-09T15:32:47.908282300Z",
     "start_time": "2023-12-09T15:32:47.861566300Z"
    }
   }
  },
  {
   "cell_type": "code",
   "execution_count": null,
   "outputs": [],
   "source": [],
   "metadata": {
    "collapsed": false
   }
  }
 ],
 "metadata": {
  "kernelspec": {
   "display_name": "Python 3",
   "language": "python",
   "name": "python3"
  },
  "language_info": {
   "codemirror_mode": {
    "name": "ipython",
    "version": 2
   },
   "file_extension": ".py",
   "mimetype": "text/x-python",
   "name": "python",
   "nbconvert_exporter": "python",
   "pygments_lexer": "ipython2",
   "version": "2.7.6"
  }
 },
 "nbformat": 4,
 "nbformat_minor": 0
}
