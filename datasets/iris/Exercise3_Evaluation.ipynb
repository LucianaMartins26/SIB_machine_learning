{
 "cells": [
  {
   "cell_type": "markdown",
   "source": [
    "__Exercise 3: Implementing SelectPercentile__"
   ],
   "metadata": {
    "collapsed": false
   }
  },
  {
   "cell_type": "markdown",
   "source": [
    "_Test the SelectPercentile class in a Jupyter notebook using the \"iris.csv\" dataset (classification)._"
   ],
   "metadata": {
    "collapsed": false
   }
  },
  {
   "cell_type": "code",
   "execution_count": 1,
   "outputs": [],
   "source": [
    "from SIB_machine_learning.src.si.io.csv_file import read_csv\n",
    "\n",
    "file = read_csv('iris.csv', sep=',', features = True, label = True)"
   ],
   "metadata": {
    "collapsed": false,
    "ExecuteTime": {
     "end_time": "2023-09-27T08:29:29.991414Z",
     "start_time": "2023-09-27T08:29:29.388179700Z"
    }
   }
  },
  {
   "cell_type": "code",
   "execution_count": 3,
   "outputs": [
    {
     "data": {
      "text/plain": "Index(['sepal_length', 'sepal_width', 'petal_length', 'petal_width'], dtype='object')"
     },
     "execution_count": 3,
     "metadata": {},
     "output_type": "execute_result"
    }
   ],
   "source": [
    "file.features"
   ],
   "metadata": {
    "collapsed": false,
    "ExecuteTime": {
     "end_time": "2023-09-27T08:30:23.665102900Z",
     "start_time": "2023-09-27T08:30:23.607907800Z"
    }
   }
  },
  {
   "cell_type": "code",
   "execution_count": 2,
   "outputs": [
    {
     "name": "stdout",
     "output_type": "stream",
     "text": [
      "['petal_width' 'petal_length']\n"
     ]
    }
   ],
   "source": [
    "from SIB_machine_learning.src.si.feature_selection.select_percentile import SelectPercentile\n",
    "\n",
    "select_percentile = SelectPercentile(percentile=50)\n",
    "select_percentile.fit(file)\n",
    "dataset = select_percentile.transform(file)\n",
    "print(dataset.features)"
   ],
   "metadata": {
    "collapsed": false,
    "ExecuteTime": {
     "end_time": "2023-09-27T08:30:10.917897700Z",
     "start_time": "2023-09-27T08:30:10.179403100Z"
    }
   }
  },
  {
   "cell_type": "code",
   "execution_count": 4,
   "outputs": [
    {
     "name": "stdout",
     "output_type": "stream",
     "text": [
      "['sepal_width' 'sepal_length' 'petal_width' 'petal_length']\n"
     ]
    }
   ],
   "source": [
    "select_percentile = SelectPercentile(percentile=20)\n",
    "dataset = select_percentile.fit_transform(file)\n",
    "print(dataset.features)"
   ],
   "metadata": {
    "collapsed": false,
    "ExecuteTime": {
     "end_time": "2023-09-27T08:30:50.610440400Z",
     "start_time": "2023-09-27T08:30:50.601341Z"
    }
   }
  },
  {
   "cell_type": "code",
   "execution_count": 8,
   "outputs": [
    {
     "name": "stdout",
     "output_type": "stream",
     "text": [
      "['petal_length']\n"
     ]
    }
   ],
   "source": [
    "select_percentile = SelectPercentile(percentile=40)\n",
    "dataset = select_percentile.fit_transform(file)\n",
    "print(dataset.features)"
   ],
   "metadata": {
    "collapsed": false,
    "ExecuteTime": {
     "end_time": "2023-09-27T08:31:11.891621400Z",
     "start_time": "2023-09-27T08:31:11.871577100Z"
    }
   }
  },
  {
   "cell_type": "code",
   "execution_count": 9,
   "outputs": [
    {
     "name": "stdout",
     "output_type": "stream",
     "text": [
      "['sepal_length' 'petal_width' 'petal_length']\n"
     ]
    }
   ],
   "source": [
    "select_percentile = SelectPercentile(percentile=80)\n",
    "dataset = select_percentile.fit_transform(file)\n",
    "print(dataset.features)"
   ],
   "metadata": {
    "collapsed": false,
    "ExecuteTime": {
     "end_time": "2023-09-27T08:31:18.472706900Z",
     "start_time": "2023-09-27T08:31:18.409399800Z"
    }
   }
  },
  {
   "cell_type": "code",
   "execution_count": 11,
   "outputs": [
    {
     "name": "stdout",
     "output_type": "stream",
     "text": [
      "['sepal_width' 'sepal_length' 'petal_width' 'petal_length']\n"
     ]
    }
   ],
   "source": [
    "select_percentile = SelectPercentile() # default de 10\n",
    "dataset = select_percentile.fit_transform(file)\n",
    "print(dataset.features)"
   ],
   "metadata": {
    "collapsed": false,
    "ExecuteTime": {
     "end_time": "2023-09-27T08:31:41.618298500Z",
     "start_time": "2023-09-27T08:31:41.586577500Z"
    }
   }
  },
  {
   "cell_type": "code",
   "execution_count": null,
   "outputs": [],
   "source": [],
   "metadata": {
    "collapsed": false
   }
  }
 ],
 "metadata": {
  "kernelspec": {
   "display_name": "Python 3",
   "language": "python",
   "name": "python3"
  },
  "language_info": {
   "codemirror_mode": {
    "name": "ipython",
    "version": 2
   },
   "file_extension": ".py",
   "mimetype": "text/x-python",
   "name": "python",
   "nbconvert_exporter": "python",
   "pygments_lexer": "ipython2",
   "version": "2.7.6"
  }
 },
 "nbformat": 4,
 "nbformat_minor": 0
}
