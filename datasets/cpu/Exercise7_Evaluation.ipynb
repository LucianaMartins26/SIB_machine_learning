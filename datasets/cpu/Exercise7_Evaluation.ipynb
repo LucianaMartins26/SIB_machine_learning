{
 "cells": [
  {
   "cell_type": "markdown",
   "source": [
    "__Exercise 7: Implementing the KNNRegressor withRMSE__\n",
    "_Test the \"KNNRegressor\" class using the \"cpu.csv\" dataset (regression)._"
   ],
   "metadata": {
    "collapsed": false
   },
   "id": "285c0f198d973eb3"
  },
  {
   "cell_type": "code",
   "execution_count": 1,
   "outputs": [],
   "source": [
    "from SIB_machine_learning.src.si.io.csv_file import read_csv\n",
    "from SIB_machine_learning.src.si.models.knn_regressor import KNNRegressor\n",
    "\n",
    "file = read_csv('cpu.csv', sep=',', features = True, label = True)\n",
    "\n",
    "knn = KNNRegressor(k=4)\n",
    "knn.fit(file)"
   ],
   "metadata": {
    "collapsed": false,
    "ExecuteTime": {
     "end_time": "2023-11-10T09:10:16.451788900Z",
     "start_time": "2023-11-10T09:10:15.390975700Z"
    }
   },
   "id": "a66b1a5f847f4001"
  },
  {
   "cell_type": "code",
   "execution_count": 2,
   "outputs": [
    {
     "data": {
      "text/plain": "array([ 82.  , 198.25, 198.25, 198.25, 198.25, 381.25, 659.  , 659.  ,\n       659.  , 659.  ,  35.5 ,  35.5 ,  86.25,  63.25,  16.  ,  39.5 ,\n        29.75,  30.5 ,  30.5 ,  70.5 ,  30.5 ,  30.5 ,  30.5 ,  70.5 ,\n        38.  ,  38.  ,  38.  ,  38.  ,  38.  ,  38.  , 189.25, 189.25,\n        63.25,  63.25,  42.  , 115.  ,  63.25,  63.25,  63.25,  63.25,\n        63.25,  63.25,  63.25,  63.25,  77.75,  77.75,  16.  ,  16.  ,\n        38.  ,  39.5 ,  18.5 ,  18.5 ,  60.5 ,  39.5 ,  70.5 ,  70.5 ,\n        42.25,  15.5 ,  15.5 ,  15.5 ,  15.5 ,  15.5 ,  82.  , 152.25,\n       152.25, 152.25,  47.25,  28.  ,  28.  ,  28.  , 152.25, 152.25,\n        55.5 ,  43.75,  43.75,  43.75,  43.75,  43.75,  43.75,  53.  ,\n        19.25,  43.75,  43.75,  19.25,  19.25,  60.5 ,  60.5 ,  60.5 ,\n        60.5 ,  60.5 ,  60.5 ,  60.5 ,  60.5 , 123.  , 123.  , 381.25,\n       381.25, 381.25, 381.25,  39.  ,  39.25,  51.25,  10.5 ,  10.5 ,\n        17.5 ,  35.5 ,  35.5 ,  15.5 ,  15.5 ,  15.5 ,  15.5 ,  15.5 ,\n        42.25,  42.25,  53.  ,  69.  ,  53.  ,  42.25, 189.25, 189.25,\n       272.25, 272.25,  12.5 ,  12.5 ,  15.5 ,  63.25,  63.25,  63.25,\n        63.25,  63.25,  63.25,  30.  ,  30.  ,  30.  ,  63.25,  63.25,\n        63.25,  29.75,  51.25,  51.25,  47.25,  47.25,  47.25, 152.25,\n        86.25,  86.25,  86.25,  63.25, 116.75, 116.75, 331.75, 331.75,\n       314.25, 250.75, 111.75, 250.75, 711.  ,  57.5 ,  37.75,  42.  ,\n        42.  ,  42.  ,  42.  ,  42.  ,  42.  , 250.75, 250.75, 250.75,\n       250.75, 250.75,  39.5 ,  39.5 ,  39.5 ,  32.75,  32.75,  32.75,\n        40.  ,  40.  ,  40.  ,  40.  ,  40.  ,  23.  ,  23.  ,  28.  ,\n        28.  ,  28.  ,  90.75, 116.75, 119.75, 119.75, 381.25, 381.25,\n       381.25,  51.25,  63.25,  63.25,  63.25,  63.25, 711.  , 711.  ,\n        53.  ,  53.  ,  53.  ,  53.  ,  82.  ,  30.  ,  82.  ,  39.  ,\n        39.  ])"
     },
     "execution_count": 2,
     "metadata": {},
     "output_type": "execute_result"
    }
   ],
   "source": [
    "knn.predict(file)"
   ],
   "metadata": {
    "collapsed": false,
    "ExecuteTime": {
     "end_time": "2023-11-10T09:10:17.295925800Z",
     "start_time": "2023-11-10T09:10:17.053356300Z"
    }
   },
   "id": "bfc714f7376a4779"
  },
  {
   "cell_type": "code",
   "execution_count": 3,
   "outputs": [
    {
     "data": {
      "text/plain": "83.6922013653482"
     },
     "execution_count": 3,
     "metadata": {},
     "output_type": "execute_result"
    }
   ],
   "source": [
    "knn.score(file)"
   ],
   "metadata": {
    "collapsed": false,
    "ExecuteTime": {
     "end_time": "2023-11-10T09:10:24.760986900Z",
     "start_time": "2023-11-10T09:10:24.510463800Z"
    }
   },
   "id": "a7355bfb08bf34bf"
  },
  {
   "cell_type": "code",
   "execution_count": null,
   "outputs": [],
   "source": [],
   "metadata": {
    "collapsed": false
   },
   "id": "b19cb2335b0d7a71"
  }
 ],
 "metadata": {
  "kernelspec": {
   "display_name": "Python 3",
   "language": "python",
   "name": "python3"
  },
  "language_info": {
   "codemirror_mode": {
    "name": "ipython",
    "version": 2
   },
   "file_extension": ".py",
   "mimetype": "text/x-python",
   "name": "python",
   "nbconvert_exporter": "python",
   "pygments_lexer": "ipython2",
   "version": "2.7.6"
  }
 },
 "nbformat": 4,
 "nbformat_minor": 5
}
