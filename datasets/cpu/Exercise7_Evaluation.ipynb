{
 "cells": [
  {
   "cell_type": "markdown",
   "source": [
    "__Exercise 7: Implementing the KNNRegressor withRMSE__\n",
    "_Test the \"KNNRegressor\" class using the \"cpu.csv\" dataset (regression)._"
   ],
   "metadata": {
    "collapsed": false
   },
   "id": "285c0f198d973eb3"
  },
  {
   "cell_type": "code",
   "execution_count": 1,
   "outputs": [],
   "source": [
    "from SIB_machine_learning.src.si.io.csv_file import read_csv\n",
    "from SIB_machine_learning.src.si.models.knn_regressor import KNNRegressor\n",
    "\n",
    "file = read_csv('cpu.csv', sep=',', features = True, label = True)\n",
    "\n",
    "knn = KNNRegressor(k=4)\n",
    "knn.fit(file)"
   ],
   "metadata": {
    "collapsed": false,
    "ExecuteTime": {
     "end_time": "2023-12-09T15:33:11.532921100Z",
     "start_time": "2023-12-09T15:33:10.866510800Z"
    }
   },
   "id": "a66b1a5f847f4001"
  },
  {
   "cell_type": "code",
   "execution_count": 2,
   "outputs": [
    {
     "data": {
      "text/plain": "array([ 74.75, 244.75, 244.75, 244.75, 166.75, 322.75, 446.5 , 446.5 ,\n       961.25, 961.25,  33.5 ,  32.25,  89.5 , 121.  ,  17.5 ,  65.25,\n        20.5 ,  44.25,  23.  ,  72.5 ,  36.25,  50.75,  47.75,  50.75,\n        74.75,  32.75,  74.75,  36.75,  44.25,  44.25, 174.  , 174.  ,\n        52.5 ,  52.5 , 191.25, 191.25,  20.5 ,  26.  ,  49.  ,  26.  ,\n        27.5 ,  49.25,  49.25,  49.25,  66.5 ,  47.5 ,  17.75,  42.5 ,\n        48.25,  51.25,  17.5 ,  32.25,  65.25,  59.75,  28.25,  66.5 ,\n        59.75,  15.5 ,  15.5 ,  15.5 ,  15.5 ,  15.5 ,  23.75,  89.5 ,\n        84.25, 132.75,  23.75,  25.  ,  28.25,  32.25,  60.25,  63.75,\n        22.75,  33.5 ,  33.5 ,  66.5 ,  32.25,  64.75,  16.25,  66.5 ,\n        33.5 ,  28.5 ,  65.25,  24.  ,  28.5 ,  31.5 ,  31.5 ,  31.5 ,\n       144.5 ,  74.25, 144.5 , 144.5 ,  31.5 ,  93.5 , 191.25, 446.5 ,\n       446.5 , 234.5 , 166.75,  17.5 ,  23.  ,  74.75,  12.75,  16.75,\n        30.25,  33.75,  58.25,  13.  ,  11.75,  26.75,  26.75,  35.75,\n        35.75,  35.75,  63.  ,  90.  ,  90.  ,  32.5 ,  61.75,  61.75,\n       102.75, 112.25,  10.25,  14.5 ,  18.25,  30.25,  49.  ,  49.  ,\n        67.25,  67.25, 159.5 ,  29.  ,  30.  ,  30.  ,  49.25,  67.25,\n        67.25,  23.75,  52.5 ,  30.75,  71.25,  71.25,  68.75,  82.5 ,\n       103.5 ,  92.  , 121.  , 121.  , 121.  ,  59.  , 145.5 , 322.75,\n       322.75, 457.75, 191.25, 322.75, 487.5 ,  16.75,  23.  ,  26.  ,\n        36.25,  49.  ,  58.25,  69.75,  82.5 ,  58.25,  58.25, 159.5 ,\n       191.  , 138.25,  23.  ,  29.5 ,  66.5 ,  27.5 ,  27.5 ,  65.25,\n        22.5 ,  20.5 ,  31.5 ,  52.5 ,  73.75,  23.75,  32.75,  33.5 ,\n        36.25,  55.  , 103.5 ,  69.75,  74.  , 159.5 , 191.  , 315.5 ,\n       335.25,  60.  , 149.25, 192.5 , 192.5 , 256.5 , 961.25, 961.25,\n        16.25,  22.5 ,  16.25,  22.5 ,  39.  ,  30.  ,  52.5 ,  48.25,\n        32.25])"
     },
     "execution_count": 2,
     "metadata": {},
     "output_type": "execute_result"
    }
   ],
   "source": [
    "knn.predict(file)"
   ],
   "metadata": {
    "collapsed": false,
    "ExecuteTime": {
     "end_time": "2023-12-09T15:33:11.899126500Z",
     "start_time": "2023-12-09T15:33:11.563005700Z"
    }
   },
   "id": "bfc714f7376a4779"
  },
  {
   "cell_type": "code",
   "execution_count": 3,
   "outputs": [
    {
     "data": {
      "text/plain": "44.398306602691534"
     },
     "execution_count": 3,
     "metadata": {},
     "output_type": "execute_result"
    }
   ],
   "source": [
    "knn.score(file)"
   ],
   "metadata": {
    "collapsed": false,
    "ExecuteTime": {
     "end_time": "2023-12-09T15:33:12.247748400Z",
     "start_time": "2023-12-09T15:33:11.916418100Z"
    }
   },
   "id": "a7355bfb08bf34bf"
  },
  {
   "cell_type": "code",
   "execution_count": null,
   "outputs": [],
   "source": [],
   "metadata": {
    "collapsed": false
   },
   "id": "b19cb2335b0d7a71"
  }
 ],
 "metadata": {
  "kernelspec": {
   "display_name": "Python 3",
   "language": "python",
   "name": "python3"
  },
  "language_info": {
   "codemirror_mode": {
    "name": "ipython",
    "version": 2
   },
   "file_extension": ".py",
   "mimetype": "text/x-python",
   "name": "python",
   "nbconvert_exporter": "python",
   "pygments_lexer": "ipython2",
   "version": "2.7.6"
  }
 },
 "nbformat": 4,
 "nbformat_minor": 5
}
